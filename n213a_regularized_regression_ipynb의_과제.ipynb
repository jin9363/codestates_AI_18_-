{
  "nbformat": 4,
  "nbformat_minor": 0,
  "metadata": {
    "colab": {
      "provenance": [],
      "include_colab_link": true
    },
    "kernelspec": {
      "name": "python3",
      "display_name": "Python 3"
    },
    "language_info": {
      "name": "python"
    }
  },
  "cells": [
    {
      "cell_type": "markdown",
      "metadata": {
        "id": "view-in-github",
        "colab_type": "text"
      },
      "source": [
        "<a href=\"https://colab.research.google.com/github/jin9363/codestates_AI_18_-/blob/main/n213a_regularized_regression_ipynb%EC%9D%98_%EA%B3%BC%EC%A0%9C.ipynb\" target=\"_parent\"><img src=\"https://colab.research.google.com/assets/colab-badge.svg\" alt=\"Open In Colab\"/></a>"
      ]
    },
    {
      "cell_type": "markdown",
      "source": [
        "<img align=\"right\" src=\"https://ds-cs-images.s3.ap-northeast-2.amazonaws.com/Codestates_Fulllogo_Color.png\" width=100>\n",
        "\n",
        "## *AIB / SECTION 2 / SPRINT 1 / NOTE 3*\n",
        "\n",
        "# 📝 Assignment\n",
        "---"
      ],
      "metadata": {
        "id": "b2JzhzEzaLC4"
      }
    },
    {
      "cell_type": "markdown",
      "source": [
        "# 🌱 **기본 과제**\n",
        "\n",
        "이번에는 노트에서 다루지 않은 새로운 데이터인 [Melbourne Housing Market](https://www.kaggle.com/datasets/anthonypino/melbourne-housing-market#:~:text=calendar_view_week-,MELBOURNE_HOUSE_PRICES_LESS,-.csv)을 사용하여 정규화를 연습해 보겠습니다."
      ],
      "metadata": {
        "id": "kyaj1xiyadVu"
      }
    },
    {
      "cell_type": "code",
      "source": [
        "!pip install category_encoders\n",
        "!pip install scikit-learn==1.1.3"
      ],
      "metadata": {
        "id": "Um7EX5SpSO0J",
        "colab": {
          "base_uri": "https://localhost:8080/",
          "height": 698
        },
        "outputId": "a1ba0c9f-1a8b-4d66-c76d-ee25c6f3ad7e"
      },
      "execution_count": 8,
      "outputs": [
        {
          "output_type": "stream",
          "name": "stdout",
          "text": [
            "Looking in indexes: https://pypi.org/simple, https://us-python.pkg.dev/colab-wheels/public/simple/\n",
            "Collecting category_encoders\n",
            "  Downloading category_encoders-2.6.0-py2.py3-none-any.whl (81 kB)\n",
            "\u001b[2K     \u001b[90m━━━━━━━━━━━━━━━━━━━━━━━━━━━━━━━━━━━━━━━━\u001b[0m \u001b[32m81.2/81.2 KB\u001b[0m \u001b[31m3.3 MB/s\u001b[0m eta \u001b[36m0:00:00\u001b[0m\n",
            "\u001b[?25hRequirement already satisfied: numpy>=1.14.0 in /usr/local/lib/python3.9/dist-packages (from category_encoders) (1.22.4)\n",
            "Requirement already satisfied: statsmodels>=0.9.0 in /usr/local/lib/python3.9/dist-packages (from category_encoders) (0.13.5)\n",
            "Requirement already satisfied: patsy>=0.5.1 in /usr/local/lib/python3.9/dist-packages (from category_encoders) (0.5.3)\n",
            "Requirement already satisfied: scikit-learn>=0.20.0 in /usr/local/lib/python3.9/dist-packages (from category_encoders) (1.2.2)\n",
            "Requirement already satisfied: pandas>=1.0.5 in /usr/local/lib/python3.9/dist-packages (from category_encoders) (1.4.4)\n",
            "Requirement already satisfied: scipy>=1.0.0 in /usr/local/lib/python3.9/dist-packages (from category_encoders) (1.10.1)\n",
            "Requirement already satisfied: pytz>=2020.1 in /usr/local/lib/python3.9/dist-packages (from pandas>=1.0.5->category_encoders) (2022.7.1)\n",
            "Requirement already satisfied: python-dateutil>=2.8.1 in /usr/local/lib/python3.9/dist-packages (from pandas>=1.0.5->category_encoders) (2.8.2)\n",
            "Requirement already satisfied: six in /usr/local/lib/python3.9/dist-packages (from patsy>=0.5.1->category_encoders) (1.15.0)\n",
            "Requirement already satisfied: joblib>=1.1.1 in /usr/local/lib/python3.9/dist-packages (from scikit-learn>=0.20.0->category_encoders) (1.1.1)\n",
            "Requirement already satisfied: threadpoolctl>=2.0.0 in /usr/local/lib/python3.9/dist-packages (from scikit-learn>=0.20.0->category_encoders) (3.1.0)\n",
            "Requirement already satisfied: packaging>=21.3 in /usr/local/lib/python3.9/dist-packages (from statsmodels>=0.9.0->category_encoders) (23.0)\n",
            "Installing collected packages: category_encoders\n",
            "Successfully installed category_encoders-2.6.0\n",
            "Looking in indexes: https://pypi.org/simple, https://us-python.pkg.dev/colab-wheels/public/simple/\n",
            "Collecting scikit-learn==1.1.3\n",
            "  Downloading scikit_learn-1.1.3-cp39-cp39-manylinux_2_17_x86_64.manylinux2014_x86_64.whl (30.8 MB)\n",
            "\u001b[2K     \u001b[90m━━━━━━━━━━━━━━━━━━━━━━━━━━━━━━━━━━━━━━━━\u001b[0m \u001b[32m30.8/30.8 MB\u001b[0m \u001b[31m48.4 MB/s\u001b[0m eta \u001b[36m0:00:00\u001b[0m\n",
            "\u001b[?25hRequirement already satisfied: scipy>=1.3.2 in /usr/local/lib/python3.9/dist-packages (from scikit-learn==1.1.3) (1.10.1)\n",
            "Requirement already satisfied: numpy>=1.17.3 in /usr/local/lib/python3.9/dist-packages (from scikit-learn==1.1.3) (1.22.4)\n",
            "Requirement already satisfied: joblib>=1.0.0 in /usr/local/lib/python3.9/dist-packages (from scikit-learn==1.1.3) (1.1.1)\n",
            "Requirement already satisfied: threadpoolctl>=2.0.0 in /usr/local/lib/python3.9/dist-packages (from scikit-learn==1.1.3) (3.1.0)\n",
            "Installing collected packages: scikit-learn\n",
            "  Attempting uninstall: scikit-learn\n",
            "    Found existing installation: scikit-learn 1.2.2\n",
            "    Uninstalling scikit-learn-1.2.2:\n",
            "      Successfully uninstalled scikit-learn-1.2.2\n",
            "Successfully installed scikit-learn-1.1.3\n"
          ]
        },
        {
          "output_type": "display_data",
          "data": {
            "application/vnd.colab-display-data+json": {
              "pip_warning": {
                "packages": [
                  "sklearn"
                ]
              }
            }
          },
          "metadata": {}
        }
      ]
    },
    {
      "cell_type": "markdown",
      "source": [
        "## **Part 1. 데이터 준비**"
      ],
      "metadata": {
        "id": "-EH6j1Mxatdo"
      }
    },
    {
      "cell_type": "markdown",
      "source": [
        "### **1-1. 데이터 불러오기 및 전처리**\n",
        "\n",
        "- 데이터셋을 불러오세요.\n",
        "- 다음 항목을 제거하세요.\n",
        "  - column\n",
        "    - 날짜 특성\n",
        "    - 범주형 데이터 중에서 카디널리티가 50이 넘는 특성\n",
        "  - row\n",
        "    - Price 변수 기준 결측치 샘플\n",
        "    - 중복되는 샘플 "
      ],
      "metadata": {
        "id": "QOxXB39mBuge"
      }
    },
    {
      "cell_type": "markdown",
      "source": [
        "#### **Q1. 다음 column 중 범주형 데이터가 아닌 것을 고르세요.**\n",
        "```\n",
        "A. Address \n",
        "B. Rooms \n",
        "C. SellerG \n",
        "D. Postcode \n",
        "E. CouncilArea \n",
        "```\n",
        "\n",
        "**B**\n",
        "**그나마 아닌거 같은거 고른거긴 한데 Rooms도 사실은 어느정도 범위에 있으니 범주형이 아닌가싶다..**"
      ],
      "metadata": {
        "id": "dbGtjevIxndJ"
      }
    },
    {
      "cell_type": "code",
      "source": [
        "import pandas as pd\n",
        "\n",
        "# get data\n",
        "df = pd.read_csv('https://ds-lecture-data.s3.ap-northeast-2.amazonaws.com/melbourne_house_prices/MELBOURNE_HOUSE_PRICES_LESS.csv')\n",
        "df.head()"
      ],
      "metadata": {
        "id": "OIZcF8pLpv1-",
        "colab": {
          "base_uri": "https://localhost:8080/",
          "height": 392
        },
        "outputId": "f43b5ad7-8df9-48bd-d3b2-90663385f84e"
      },
      "execution_count": 1,
      "outputs": [
        {
          "output_type": "execute_result",
          "data": {
            "text/plain": [
              "         Suburb           Address  Rooms Type      Price Method   SellerG  \\\n",
              "0    Abbotsford     49 Lithgow St      3    h  1490000.0      S    Jellis   \n",
              "1    Abbotsford     59A Turner St      3    h  1220000.0      S  Marshall   \n",
              "2    Abbotsford     119B Yarra St      3    h  1420000.0      S    Nelson   \n",
              "3    Aberfeldie        68 Vida St      3    h  1515000.0      S     Barry   \n",
              "4  Airport West  92 Clydesdale Rd      2    h   670000.0      S    Nelson   \n",
              "\n",
              "        Date  Postcode             Regionname  Propertycount  Distance  \\\n",
              "0  1/04/2017      3067  Northern Metropolitan           4019       3.0   \n",
              "1  1/04/2017      3067  Northern Metropolitan           4019       3.0   \n",
              "2  1/04/2017      3067  Northern Metropolitan           4019       3.0   \n",
              "3  1/04/2017      3040   Western Metropolitan           1543       7.5   \n",
              "4  1/04/2017      3042   Western Metropolitan           3464      10.4   \n",
              "\n",
              "                  CouncilArea  \n",
              "0          Yarra City Council  \n",
              "1          Yarra City Council  \n",
              "2          Yarra City Council  \n",
              "3  Moonee Valley City Council  \n",
              "4  Moonee Valley City Council  "
            ],
            "text/html": [
              "\n",
              "  <div id=\"df-00b103f7-3d5b-4b52-a8b7-fe473d14dd09\">\n",
              "    <div class=\"colab-df-container\">\n",
              "      <div>\n",
              "<style scoped>\n",
              "    .dataframe tbody tr th:only-of-type {\n",
              "        vertical-align: middle;\n",
              "    }\n",
              "\n",
              "    .dataframe tbody tr th {\n",
              "        vertical-align: top;\n",
              "    }\n",
              "\n",
              "    .dataframe thead th {\n",
              "        text-align: right;\n",
              "    }\n",
              "</style>\n",
              "<table border=\"1\" class=\"dataframe\">\n",
              "  <thead>\n",
              "    <tr style=\"text-align: right;\">\n",
              "      <th></th>\n",
              "      <th>Suburb</th>\n",
              "      <th>Address</th>\n",
              "      <th>Rooms</th>\n",
              "      <th>Type</th>\n",
              "      <th>Price</th>\n",
              "      <th>Method</th>\n",
              "      <th>SellerG</th>\n",
              "      <th>Date</th>\n",
              "      <th>Postcode</th>\n",
              "      <th>Regionname</th>\n",
              "      <th>Propertycount</th>\n",
              "      <th>Distance</th>\n",
              "      <th>CouncilArea</th>\n",
              "    </tr>\n",
              "  </thead>\n",
              "  <tbody>\n",
              "    <tr>\n",
              "      <th>0</th>\n",
              "      <td>Abbotsford</td>\n",
              "      <td>49 Lithgow St</td>\n",
              "      <td>3</td>\n",
              "      <td>h</td>\n",
              "      <td>1490000.0</td>\n",
              "      <td>S</td>\n",
              "      <td>Jellis</td>\n",
              "      <td>1/04/2017</td>\n",
              "      <td>3067</td>\n",
              "      <td>Northern Metropolitan</td>\n",
              "      <td>4019</td>\n",
              "      <td>3.0</td>\n",
              "      <td>Yarra City Council</td>\n",
              "    </tr>\n",
              "    <tr>\n",
              "      <th>1</th>\n",
              "      <td>Abbotsford</td>\n",
              "      <td>59A Turner St</td>\n",
              "      <td>3</td>\n",
              "      <td>h</td>\n",
              "      <td>1220000.0</td>\n",
              "      <td>S</td>\n",
              "      <td>Marshall</td>\n",
              "      <td>1/04/2017</td>\n",
              "      <td>3067</td>\n",
              "      <td>Northern Metropolitan</td>\n",
              "      <td>4019</td>\n",
              "      <td>3.0</td>\n",
              "      <td>Yarra City Council</td>\n",
              "    </tr>\n",
              "    <tr>\n",
              "      <th>2</th>\n",
              "      <td>Abbotsford</td>\n",
              "      <td>119B Yarra St</td>\n",
              "      <td>3</td>\n",
              "      <td>h</td>\n",
              "      <td>1420000.0</td>\n",
              "      <td>S</td>\n",
              "      <td>Nelson</td>\n",
              "      <td>1/04/2017</td>\n",
              "      <td>3067</td>\n",
              "      <td>Northern Metropolitan</td>\n",
              "      <td>4019</td>\n",
              "      <td>3.0</td>\n",
              "      <td>Yarra City Council</td>\n",
              "    </tr>\n",
              "    <tr>\n",
              "      <th>3</th>\n",
              "      <td>Aberfeldie</td>\n",
              "      <td>68 Vida St</td>\n",
              "      <td>3</td>\n",
              "      <td>h</td>\n",
              "      <td>1515000.0</td>\n",
              "      <td>S</td>\n",
              "      <td>Barry</td>\n",
              "      <td>1/04/2017</td>\n",
              "      <td>3040</td>\n",
              "      <td>Western Metropolitan</td>\n",
              "      <td>1543</td>\n",
              "      <td>7.5</td>\n",
              "      <td>Moonee Valley City Council</td>\n",
              "    </tr>\n",
              "    <tr>\n",
              "      <th>4</th>\n",
              "      <td>Airport West</td>\n",
              "      <td>92 Clydesdale Rd</td>\n",
              "      <td>2</td>\n",
              "      <td>h</td>\n",
              "      <td>670000.0</td>\n",
              "      <td>S</td>\n",
              "      <td>Nelson</td>\n",
              "      <td>1/04/2017</td>\n",
              "      <td>3042</td>\n",
              "      <td>Western Metropolitan</td>\n",
              "      <td>3464</td>\n",
              "      <td>10.4</td>\n",
              "      <td>Moonee Valley City Council</td>\n",
              "    </tr>\n",
              "  </tbody>\n",
              "</table>\n",
              "</div>\n",
              "      <button class=\"colab-df-convert\" onclick=\"convertToInteractive('df-00b103f7-3d5b-4b52-a8b7-fe473d14dd09')\"\n",
              "              title=\"Convert this dataframe to an interactive table.\"\n",
              "              style=\"display:none;\">\n",
              "        \n",
              "  <svg xmlns=\"http://www.w3.org/2000/svg\" height=\"24px\"viewBox=\"0 0 24 24\"\n",
              "       width=\"24px\">\n",
              "    <path d=\"M0 0h24v24H0V0z\" fill=\"none\"/>\n",
              "    <path d=\"M18.56 5.44l.94 2.06.94-2.06 2.06-.94-2.06-.94-.94-2.06-.94 2.06-2.06.94zm-11 1L8.5 8.5l.94-2.06 2.06-.94-2.06-.94L8.5 2.5l-.94 2.06-2.06.94zm10 10l.94 2.06.94-2.06 2.06-.94-2.06-.94-.94-2.06-.94 2.06-2.06.94z\"/><path d=\"M17.41 7.96l-1.37-1.37c-.4-.4-.92-.59-1.43-.59-.52 0-1.04.2-1.43.59L10.3 9.45l-7.72 7.72c-.78.78-.78 2.05 0 2.83L4 21.41c.39.39.9.59 1.41.59.51 0 1.02-.2 1.41-.59l7.78-7.78 2.81-2.81c.8-.78.8-2.07 0-2.86zM5.41 20L4 18.59l7.72-7.72 1.47 1.35L5.41 20z\"/>\n",
              "  </svg>\n",
              "      </button>\n",
              "      \n",
              "  <style>\n",
              "    .colab-df-container {\n",
              "      display:flex;\n",
              "      flex-wrap:wrap;\n",
              "      gap: 12px;\n",
              "    }\n",
              "\n",
              "    .colab-df-convert {\n",
              "      background-color: #E8F0FE;\n",
              "      border: none;\n",
              "      border-radius: 50%;\n",
              "      cursor: pointer;\n",
              "      display: none;\n",
              "      fill: #1967D2;\n",
              "      height: 32px;\n",
              "      padding: 0 0 0 0;\n",
              "      width: 32px;\n",
              "    }\n",
              "\n",
              "    .colab-df-convert:hover {\n",
              "      background-color: #E2EBFA;\n",
              "      box-shadow: 0px 1px 2px rgba(60, 64, 67, 0.3), 0px 1px 3px 1px rgba(60, 64, 67, 0.15);\n",
              "      fill: #174EA6;\n",
              "    }\n",
              "\n",
              "    [theme=dark] .colab-df-convert {\n",
              "      background-color: #3B4455;\n",
              "      fill: #D2E3FC;\n",
              "    }\n",
              "\n",
              "    [theme=dark] .colab-df-convert:hover {\n",
              "      background-color: #434B5C;\n",
              "      box-shadow: 0px 1px 3px 1px rgba(0, 0, 0, 0.15);\n",
              "      filter: drop-shadow(0px 1px 2px rgba(0, 0, 0, 0.3));\n",
              "      fill: #FFFFFF;\n",
              "    }\n",
              "  </style>\n",
              "\n",
              "      <script>\n",
              "        const buttonEl =\n",
              "          document.querySelector('#df-00b103f7-3d5b-4b52-a8b7-fe473d14dd09 button.colab-df-convert');\n",
              "        buttonEl.style.display =\n",
              "          google.colab.kernel.accessAllowed ? 'block' : 'none';\n",
              "\n",
              "        async function convertToInteractive(key) {\n",
              "          const element = document.querySelector('#df-00b103f7-3d5b-4b52-a8b7-fe473d14dd09');\n",
              "          const dataTable =\n",
              "            await google.colab.kernel.invokeFunction('convertToInteractive',\n",
              "                                                     [key], {});\n",
              "          if (!dataTable) return;\n",
              "\n",
              "          const docLinkHtml = 'Like what you see? Visit the ' +\n",
              "            '<a target=\"_blank\" href=https://colab.research.google.com/notebooks/data_table.ipynb>data table notebook</a>'\n",
              "            + ' to learn more about interactive tables.';\n",
              "          element.innerHTML = '';\n",
              "          dataTable['output_type'] = 'display_data';\n",
              "          await google.colab.output.renderOutput(dataTable, element);\n",
              "          const docLink = document.createElement('div');\n",
              "          docLink.innerHTML = docLinkHtml;\n",
              "          element.appendChild(docLink);\n",
              "        }\n",
              "      </script>\n",
              "    </div>\n",
              "  </div>\n",
              "  "
            ]
          },
          "metadata": {},
          "execution_count": 1
        }
      ]
    },
    {
      "cell_type": "code",
      "source": [
        "df.info()"
      ],
      "metadata": {
        "colab": {
          "base_uri": "https://localhost:8080/"
        },
        "id": "I8yixHqcMa37",
        "outputId": "8099799d-e385-4e8b-ca36-6682c1f54987"
      },
      "execution_count": 2,
      "outputs": [
        {
          "output_type": "stream",
          "name": "stdout",
          "text": [
            "<class 'pandas.core.frame.DataFrame'>\n",
            "RangeIndex: 63023 entries, 0 to 63022\n",
            "Data columns (total 13 columns):\n",
            " #   Column         Non-Null Count  Dtype  \n",
            "---  ------         --------------  -----  \n",
            " 0   Suburb         63023 non-null  object \n",
            " 1   Address        63023 non-null  object \n",
            " 2   Rooms          63023 non-null  int64  \n",
            " 3   Type           63023 non-null  object \n",
            " 4   Price          48433 non-null  float64\n",
            " 5   Method         63023 non-null  object \n",
            " 6   SellerG        63023 non-null  object \n",
            " 7   Date           63023 non-null  object \n",
            " 8   Postcode       63023 non-null  int64  \n",
            " 9   Regionname     63023 non-null  object \n",
            " 10  Propertycount  63023 non-null  int64  \n",
            " 11  Distance       63023 non-null  float64\n",
            " 12  CouncilArea    63023 non-null  object \n",
            "dtypes: float64(2), int64(3), object(8)\n",
            "memory usage: 6.3+ MB\n"
          ]
        }
      ]
    },
    {
      "cell_type": "code",
      "source": [
        "# Date컬럼빼고 저장\n",
        "df = df.loc[:, ~df.columns.isin(['Date'])]\n",
        "\n",
        "# 결측치 제거(애초에 결측치가 Price데이터에만 있어서 df.dropna()로 제거)\n",
        "df = df.dropna().reset_index(drop = True)\n",
        "\n",
        "# 카디널리티가 인터넷에서는 상대적인거라고 하는데 여기서 의미하는건 대충 중복이 50개 넘으면 제거하라는거 같음\n",
        "# 그래서 범주형데이터 일단 전부를 리스트로 만들어 변수에 저장해주고 for if문을 돌려서 각각 범주형 데이터가 50개가 넘으면 제거해주는식으로 진행\n",
        "categorical_column = ['Suburb', 'Address', 'Type', 'Method', 'SellerG', 'Postcode', 'Regionname', 'CouncilArea']\n",
        "for column in categorical_column:\n",
        "    if df[column].nunique() > 50:\n",
        "        df.drop(column, axis = 1, inplace = True)\n",
        "\n",
        "# 중복 제거\n",
        "df = df.drop_duplicates().reset_index(drop = True)"
      ],
      "metadata": {
        "id": "YuAVnT0hmqV6"
      },
      "execution_count": 3,
      "outputs": []
    },
    {
      "cell_type": "code",
      "source": [
        "df.info()"
      ],
      "metadata": {
        "colab": {
          "base_uri": "https://localhost:8080/"
        },
        "id": "aAx52Gt5TJB8",
        "outputId": "c2d9762d-ec8d-4e5c-809b-bdb2d7dc3a17"
      },
      "execution_count": 4,
      "outputs": [
        {
          "output_type": "stream",
          "name": "stdout",
          "text": [
            "<class 'pandas.core.frame.DataFrame'>\n",
            "RangeIndex: 42515 entries, 0 to 42514\n",
            "Data columns (total 8 columns):\n",
            " #   Column         Non-Null Count  Dtype  \n",
            "---  ------         --------------  -----  \n",
            " 0   Rooms          42515 non-null  int64  \n",
            " 1   Type           42515 non-null  object \n",
            " 2   Price          42515 non-null  float64\n",
            " 3   Method         42515 non-null  object \n",
            " 4   Regionname     42515 non-null  object \n",
            " 5   Propertycount  42515 non-null  int64  \n",
            " 6   Distance       42515 non-null  float64\n",
            " 7   CouncilArea    42515 non-null  object \n",
            "dtypes: float64(2), int64(2), object(4)\n",
            "memory usage: 2.6+ MB\n"
          ]
        }
      ]
    },
    {
      "cell_type": "markdown",
      "source": [
        "### **1-2. Scaling & Encoding**\n",
        "- 데이터 분리\n",
        "  - 특성 X와 타겟 y를 지정하세요. \n",
        "  - `train_test_split()`을 사용하여 전체 데이터를 훈련과 테스트 데이터로 나누어주세요. \n",
        "    - 훈련과 테스트 데이터는 8:2의 비로 나눕니다.\n",
        "    - `random_state=2`로 설정합니다. \n",
        "  - `train_test_split()`을 사용하여 훈련 데이터를 훈련과 검증 데이터로 나누어주세요.\n",
        "    - 훈련과 검증 데이터는 8:2의 비로 나눕니다.\n",
        "    - `random_state=2`로 설정합니다.\n",
        "- 수치형 특성에 대해 **`StandardScaler()`**를 사용해서 **표준화**를 수행하세요.\n",
        "- 범주형 특성에 대해 \b`category_encoders` 라이브러리의 **`OneHotEncoder()`**를 사용해서 원핫인코딩을 수행하세요."
      ],
      "metadata": {
        "id": "JlqRr_4kO6BV"
      }
    },
    {
      "cell_type": "markdown",
      "source": [
        "##### **Q2. 범주형 특성에 원핫인코딩을 수행한 후, 열(column) 개수를 제출하세요.**"
      ],
      "metadata": {
        "id": "QeD9J3amrOFo"
      }
    },
    {
      "cell_type": "code",
      "source": [
        "df.head()"
      ],
      "metadata": {
        "colab": {
          "base_uri": "https://localhost:8080/",
          "height": 337
        },
        "id": "n_7VQCFywKaa",
        "outputId": "0965666a-0f5a-4226-8b25-5155f5a9d5e1"
      },
      "execution_count": 5,
      "outputs": [
        {
          "output_type": "execute_result",
          "data": {
            "text/plain": [
              "   Rooms Type      Price Method             Regionname  Propertycount  \\\n",
              "0      3    h  1490000.0      S  Northern Metropolitan           4019   \n",
              "1      3    h  1220000.0      S  Northern Metropolitan           4019   \n",
              "2      3    h  1420000.0      S  Northern Metropolitan           4019   \n",
              "3      3    h  1515000.0      S   Western Metropolitan           1543   \n",
              "4      2    h   670000.0      S   Western Metropolitan           3464   \n",
              "\n",
              "   Distance                 CouncilArea  \n",
              "0       3.0          Yarra City Council  \n",
              "1       3.0          Yarra City Council  \n",
              "2       3.0          Yarra City Council  \n",
              "3       7.5  Moonee Valley City Council  \n",
              "4      10.4  Moonee Valley City Council  "
            ],
            "text/html": [
              "\n",
              "  <div id=\"df-ecb44e66-a670-4a90-ad19-c86045a08cf0\">\n",
              "    <div class=\"colab-df-container\">\n",
              "      <div>\n",
              "<style scoped>\n",
              "    .dataframe tbody tr th:only-of-type {\n",
              "        vertical-align: middle;\n",
              "    }\n",
              "\n",
              "    .dataframe tbody tr th {\n",
              "        vertical-align: top;\n",
              "    }\n",
              "\n",
              "    .dataframe thead th {\n",
              "        text-align: right;\n",
              "    }\n",
              "</style>\n",
              "<table border=\"1\" class=\"dataframe\">\n",
              "  <thead>\n",
              "    <tr style=\"text-align: right;\">\n",
              "      <th></th>\n",
              "      <th>Rooms</th>\n",
              "      <th>Type</th>\n",
              "      <th>Price</th>\n",
              "      <th>Method</th>\n",
              "      <th>Regionname</th>\n",
              "      <th>Propertycount</th>\n",
              "      <th>Distance</th>\n",
              "      <th>CouncilArea</th>\n",
              "    </tr>\n",
              "  </thead>\n",
              "  <tbody>\n",
              "    <tr>\n",
              "      <th>0</th>\n",
              "      <td>3</td>\n",
              "      <td>h</td>\n",
              "      <td>1490000.0</td>\n",
              "      <td>S</td>\n",
              "      <td>Northern Metropolitan</td>\n",
              "      <td>4019</td>\n",
              "      <td>3.0</td>\n",
              "      <td>Yarra City Council</td>\n",
              "    </tr>\n",
              "    <tr>\n",
              "      <th>1</th>\n",
              "      <td>3</td>\n",
              "      <td>h</td>\n",
              "      <td>1220000.0</td>\n",
              "      <td>S</td>\n",
              "      <td>Northern Metropolitan</td>\n",
              "      <td>4019</td>\n",
              "      <td>3.0</td>\n",
              "      <td>Yarra City Council</td>\n",
              "    </tr>\n",
              "    <tr>\n",
              "      <th>2</th>\n",
              "      <td>3</td>\n",
              "      <td>h</td>\n",
              "      <td>1420000.0</td>\n",
              "      <td>S</td>\n",
              "      <td>Northern Metropolitan</td>\n",
              "      <td>4019</td>\n",
              "      <td>3.0</td>\n",
              "      <td>Yarra City Council</td>\n",
              "    </tr>\n",
              "    <tr>\n",
              "      <th>3</th>\n",
              "      <td>3</td>\n",
              "      <td>h</td>\n",
              "      <td>1515000.0</td>\n",
              "      <td>S</td>\n",
              "      <td>Western Metropolitan</td>\n",
              "      <td>1543</td>\n",
              "      <td>7.5</td>\n",
              "      <td>Moonee Valley City Council</td>\n",
              "    </tr>\n",
              "    <tr>\n",
              "      <th>4</th>\n",
              "      <td>2</td>\n",
              "      <td>h</td>\n",
              "      <td>670000.0</td>\n",
              "      <td>S</td>\n",
              "      <td>Western Metropolitan</td>\n",
              "      <td>3464</td>\n",
              "      <td>10.4</td>\n",
              "      <td>Moonee Valley City Council</td>\n",
              "    </tr>\n",
              "  </tbody>\n",
              "</table>\n",
              "</div>\n",
              "      <button class=\"colab-df-convert\" onclick=\"convertToInteractive('df-ecb44e66-a670-4a90-ad19-c86045a08cf0')\"\n",
              "              title=\"Convert this dataframe to an interactive table.\"\n",
              "              style=\"display:none;\">\n",
              "        \n",
              "  <svg xmlns=\"http://www.w3.org/2000/svg\" height=\"24px\"viewBox=\"0 0 24 24\"\n",
              "       width=\"24px\">\n",
              "    <path d=\"M0 0h24v24H0V0z\" fill=\"none\"/>\n",
              "    <path d=\"M18.56 5.44l.94 2.06.94-2.06 2.06-.94-2.06-.94-.94-2.06-.94 2.06-2.06.94zm-11 1L8.5 8.5l.94-2.06 2.06-.94-2.06-.94L8.5 2.5l-.94 2.06-2.06.94zm10 10l.94 2.06.94-2.06 2.06-.94-2.06-.94-.94-2.06-.94 2.06-2.06.94z\"/><path d=\"M17.41 7.96l-1.37-1.37c-.4-.4-.92-.59-1.43-.59-.52 0-1.04.2-1.43.59L10.3 9.45l-7.72 7.72c-.78.78-.78 2.05 0 2.83L4 21.41c.39.39.9.59 1.41.59.51 0 1.02-.2 1.41-.59l7.78-7.78 2.81-2.81c.8-.78.8-2.07 0-2.86zM5.41 20L4 18.59l7.72-7.72 1.47 1.35L5.41 20z\"/>\n",
              "  </svg>\n",
              "      </button>\n",
              "      \n",
              "  <style>\n",
              "    .colab-df-container {\n",
              "      display:flex;\n",
              "      flex-wrap:wrap;\n",
              "      gap: 12px;\n",
              "    }\n",
              "\n",
              "    .colab-df-convert {\n",
              "      background-color: #E8F0FE;\n",
              "      border: none;\n",
              "      border-radius: 50%;\n",
              "      cursor: pointer;\n",
              "      display: none;\n",
              "      fill: #1967D2;\n",
              "      height: 32px;\n",
              "      padding: 0 0 0 0;\n",
              "      width: 32px;\n",
              "    }\n",
              "\n",
              "    .colab-df-convert:hover {\n",
              "      background-color: #E2EBFA;\n",
              "      box-shadow: 0px 1px 2px rgba(60, 64, 67, 0.3), 0px 1px 3px 1px rgba(60, 64, 67, 0.15);\n",
              "      fill: #174EA6;\n",
              "    }\n",
              "\n",
              "    [theme=dark] .colab-df-convert {\n",
              "      background-color: #3B4455;\n",
              "      fill: #D2E3FC;\n",
              "    }\n",
              "\n",
              "    [theme=dark] .colab-df-convert:hover {\n",
              "      background-color: #434B5C;\n",
              "      box-shadow: 0px 1px 3px 1px rgba(0, 0, 0, 0.15);\n",
              "      filter: drop-shadow(0px 1px 2px rgba(0, 0, 0, 0.3));\n",
              "      fill: #FFFFFF;\n",
              "    }\n",
              "  </style>\n",
              "\n",
              "      <script>\n",
              "        const buttonEl =\n",
              "          document.querySelector('#df-ecb44e66-a670-4a90-ad19-c86045a08cf0 button.colab-df-convert');\n",
              "        buttonEl.style.display =\n",
              "          google.colab.kernel.accessAllowed ? 'block' : 'none';\n",
              "\n",
              "        async function convertToInteractive(key) {\n",
              "          const element = document.querySelector('#df-ecb44e66-a670-4a90-ad19-c86045a08cf0');\n",
              "          const dataTable =\n",
              "            await google.colab.kernel.invokeFunction('convertToInteractive',\n",
              "                                                     [key], {});\n",
              "          if (!dataTable) return;\n",
              "\n",
              "          const docLinkHtml = 'Like what you see? Visit the ' +\n",
              "            '<a target=\"_blank\" href=https://colab.research.google.com/notebooks/data_table.ipynb>data table notebook</a>'\n",
              "            + ' to learn more about interactive tables.';\n",
              "          element.innerHTML = '';\n",
              "          dataTable['output_type'] = 'display_data';\n",
              "          await google.colab.output.renderOutput(dataTable, element);\n",
              "          const docLink = document.createElement('div');\n",
              "          docLink.innerHTML = docLinkHtml;\n",
              "          element.appendChild(docLink);\n",
              "        }\n",
              "      </script>\n",
              "    </div>\n",
              "  </div>\n",
              "  "
            ]
          },
          "metadata": {},
          "execution_count": 5
        }
      ]
    },
    {
      "cell_type": "code",
      "source": [
        "from sklearn.model_selection import train_test_split\n",
        "from category_encoders import OneHotEncoder\n",
        "from sklearn.preprocessing import StandardScaler, PolynomialFeatures\n",
        "from sklearn.linear_model import LinearRegression, Ridge, Lasso\n",
        "import warnings\n",
        "warnings.filterwarnings(action='ignore')\n",
        "\n",
        "# 피쳐 타겟 분류\n",
        "features = ['Rooms', 'Type', 'Method', 'Regionname', 'Propertycount', 'Distance', 'CouncilArea']\n",
        "target = 'Price'\n",
        "\n",
        "# x, y 선언\n",
        "\n",
        "x = df[features]\n",
        "y = df[target]\n",
        "\n",
        "# 훈련, 검증 테스트 분류\n",
        "x_train, x_test, y_train, y_test = train_test_split(x, y, test_size = 0.2, random_state = 2)\n",
        "x_train, x_val, y_train, y_val = train_test_split(x_train, y_train, test_size = 0.2, random_state = 2)\n",
        "\n",
        "# 수치형데이터 표준화(standardscaler 이용)\n",
        "\n",
        "numeric_data = x_train.dtypes[x_train.dtypes != 'object'].index\n",
        "scaler = StandardScaler()\n",
        "x_train[numeric_data] = scaler.fit_transform(x_train[numeric_data])\n",
        "x_val[numeric_data] = scaler.transform(x_val[numeric_data])\n",
        "x_test[numeric_data] = scaler.transform(x_test[numeric_data])\n",
        "\n",
        "# OneHotEncoding\n",
        "\n",
        "ohe = OneHotEncoder()\n",
        "\n",
        "x_train_ohe = ohe.fit_transform(x_train)\n",
        "x_val_ohe = ohe.transform(x_val)\n",
        "x_test_ohe = ohe.transform(x_test)"
      ],
      "metadata": {
        "id": "SjRiiL54nCbj"
      },
      "execution_count": 21,
      "outputs": []
    },
    {
      "cell_type": "code",
      "source": [
        "x_val_ohe.shape"
      ],
      "metadata": {
        "colab": {
          "base_uri": "https://localhost:8080/"
        },
        "id": "Mf04dWvS1Df2",
        "outputId": "fd7aac1e-acac-4921-a4da-7d07beb9f2b5"
      },
      "execution_count": 25,
      "outputs": [
        {
          "output_type": "execute_result",
          "data": {
            "text/plain": [
              "(6803, 53)"
            ]
          },
          "metadata": {},
          "execution_count": 25
        }
      ]
    },
    {
      "cell_type": "markdown",
      "source": [
        "## **Part 2. 정규화 모델**\n",
        "\n",
        "- 기준모델\n",
        "  - train set에 대해 평균을 사용하여 기준모델을 만드세요.\n",
        "  - $R^2$와 MAE 값을 확인하세요.\n",
        "- **`ols`** vs **`ridge`** vs **`lasso`**\n",
        "  -  일반(다중) 회귀와 정규화 회귀 모델을 각각 아래와 같은 조건에서 만드세요. \n",
        "    - `LinearRegression()`\n",
        "    - `Ridge()`\n",
        "      - 적절한 alpha 값을 설정하세요.\n",
        "    - `Lasso()`\n",
        "      - 적절한 alpha 값을 설정하세요.\n",
        "  - 각 모델의 $R^2$와 MAE 값을 확인하세요.\n",
        "  - 각 모델의 회귀계수를 시각화로 나타내 보세요."
      ],
      "metadata": {
        "id": "CoGmec1dPKnF"
      }
    },
    {
      "cell_type": "code",
      "source": [
        "from sklearn.metrics import mean_squared_error, mean_absolute_error, r2_score\n",
        "\n",
        "# 기준모델 생성\n",
        "base = [y_train.mean()] * len(y_train)\n",
        "base_r2 = r2_score(y_train, base)\n",
        "base_mae = mean_absolute_error(y_train, base)\n",
        "\n",
        "print(f'기준모델 r2 : {base_r2}\\n기준모델 mae : {base_mae}')"
      ],
      "metadata": {
        "id": "z9I8OL9dnG4y",
        "colab": {
          "base_uri": "https://localhost:8080/"
        },
        "outputId": "cb8223f6-d8c4-4c90-94b0-03f86b2be6e2"
      },
      "execution_count": 29,
      "outputs": [
        {
          "output_type": "stream",
          "name": "stdout",
          "text": [
            "기준모델 r2 : 0.0\n",
            "기준모델 mae : 420382.30671549414\n"
          ]
        }
      ]
    },
    {
      "cell_type": "code",
      "source": [
        "import matplotlib.pyplot as plt\n",
        "import seaborn as sns\n",
        "from sklearn.linear_model import RidgeCV, LassoCV\n",
        "import numpy as np\n",
        "\n",
        "# 다중선형회귀모델 생성\n",
        "ols = LinearRegression()\n",
        "ols.fit(x_train_ohe, y_train)\n",
        "# 시각화 만들기위한 회귀계수 시리즈생성\n",
        "ols_coef = pd.Series(ols.coef_, x_train_ohe.columns)\n",
        "\n",
        "# Ridge모델 생성\n",
        "ridge = Ridge(alpha = 1.4)\n",
        "ridge.fit(x_train_ohe, y_train)\n",
        "# 시각화 만들기위한 회귀계수 시리즈생성\n",
        "ridge_coef = pd.Series(ridge.coef_, x_train_ohe.columns)\n",
        "\n",
        "# Lasso모델 생성\n",
        "lasso = Lasso(alpha = 9.9)\n",
        "lasso.fit(x_train_ohe, y_train)\n",
        "# 시각화 만들기위한 회귀계수 시리즈생성\n",
        "lasso_coef = pd.Series(lasso.coef_, x_train_ohe.columns)"
      ],
      "metadata": {
        "id": "N-oDsXj62s9X"
      },
      "execution_count": 48,
      "outputs": []
    },
    {
      "cell_type": "code",
      "source": [
        "y_train_pred = ols.predict(x_train_ohe)\n",
        "ols_r2 = r2_score(y_train, y_train_pred)\n",
        "ols_mae = mean_absolute_error(y_train, y_train_pred)\n",
        "\n",
        "print(f'다중선형회귀 r2 : {ols_r2.round(2)}\\n다중선형회귀 mae : {ols_mae.round(2)}')"
      ],
      "metadata": {
        "colab": {
          "base_uri": "https://localhost:8080/"
        },
        "id": "2GhwD_FX__eq",
        "outputId": "ae599690-1c2e-4778-cb3c-26a6c76e2d81"
      },
      "execution_count": 81,
      "outputs": [
        {
          "output_type": "stream",
          "name": "stdout",
          "text": [
            "다중선형회귀 r2 : 0.58\n",
            "다중선형회귀 mae : 251432.72\n"
          ]
        }
      ]
    },
    {
      "cell_type": "code",
      "source": [
        "# 다중선형회귀모델 회귀계수 시각화 인데 뭔가 이상함\n",
        "ols_coef.sort_values(ascending = False).plot.barh(figsize = (8, 12));"
      ],
      "metadata": {
        "colab": {
          "base_uri": "https://localhost:8080/",
          "height": 713
        },
        "id": "x5hEiPs0-px5",
        "outputId": "e32e583a-f1e0-4e78-d6a5-a06a5acf8054"
      },
      "execution_count": 78,
      "outputs": [
        {
          "output_type": "display_data",
          "data": {
            "text/plain": [
              "<Figure size 576x864 with 1 Axes>"
            ],
            "image/png": "[encoded data removed]"
          },
          "metadata": {
            "needs_background": "light"
          }
        }
      ]
    },
    {
      "cell_type": "markdown",
      "source": [
        "### **2-1. Ridge Regression**"
      ],
      "metadata": {
        "id": "tWK_hUd6znDb"
      }
    },
    {
      "cell_type": "markdown",
      "source": [
        "##### **Q3. Ridge 회귀 모델에서 절댓값이 가장 큰 회귀계수 값은 얼마인가요? (소수점 이하 반올림)**"
      ],
      "metadata": {
        "id": "GHGKA9QTykrB"
      }
    },
    {
      "cell_type": "code",
      "source": [
        "np.abs(ridge_coef).sort_values(ascending = False).round(0).head(5)"
      ],
      "metadata": {
        "id": "hWE66_yYnMRu",
        "colab": {
          "base_uri": "https://localhost:8080/"
        },
        "outputId": "28fa3123-6526-4bcd-d322-f67b3737109e"
      },
      "execution_count": 54,
      "outputs": [
        {
          "output_type": "execute_result",
          "data": {
            "text/plain": [
              "CouncilArea_14    494046.0\n",
              "CouncilArea_12    459832.0\n",
              "CouncilArea_2     451716.0\n",
              "CouncilArea_23    419237.0\n",
              "CouncilArea_32    388799.0\n",
              "dtype: float64"
            ]
          },
          "metadata": {},
          "execution_count": 54
        }
      ]
    },
    {
      "cell_type": "code",
      "source": [
        "y_ridge_train_pred = ridge.predict(x_train_ohe)\n",
        "ridge_r2 = r2_score(y_train, y_ridge_train_pred)\n",
        "ridge_mae = mean_absolute_error(y_train, y_ridge_train_pred)\n",
        "\n",
        "print(f'Ridge r2 : {ridge_r2.round(2)}\\nRidge mae : {ridge_mae}')"
      ],
      "metadata": {
        "colab": {
          "base_uri": "https://localhost:8080/"
        },
        "id": "Cbm1SxIpG60L",
        "outputId": "ddfb4c61-aec1-4f32-a9b8-50b6e80b30e0"
      },
      "execution_count": 82,
      "outputs": [
        {
          "output_type": "stream",
          "name": "stdout",
          "text": [
            "Ridge r2 : 0.58\n",
            "Ridge mae : 251387.89568653906\n"
          ]
        }
      ]
    },
    {
      "cell_type": "code",
      "source": [
        "ridge_coef.sort_values(ascending = False).plot.barh(figsize = (8, 12));"
      ],
      "metadata": {
        "colab": {
          "base_uri": "https://localhost:8080/",
          "height": 700
        },
        "id": "BJZDZ6R0-pHn",
        "outputId": "58d77c3b-9a48-4573-8ee4-6b70f6b02848"
      },
      "execution_count": 77,
      "outputs": [
        {
          "output_type": "display_data",
          "data": {
            "text/plain": [
              "<Figure size 576x864 with 1 Axes>"
            ],
            "image/png": "[encoded data removed]"
          },
          "metadata": {
            "needs_background": "light"
          }
        }
      ]
    },
    {
      "cell_type": "markdown",
      "source": [
        "### **2-2. Lasso Regression**"
      ],
      "metadata": {
        "id": "nAIkzVGL7UdF"
      }
    },
    {
      "cell_type": "markdown",
      "source": [
        "###### **Q4. Lasso 회귀 모델에서 회귀계수 값이 0으로 수렴한 특성은 모두 몇 개인가요?**"
      ],
      "metadata": {
        "id": "cqdmO43O3dPK"
      }
    },
    {
      "cell_type": "code",
      "source": [
        "lasso_coef[lasso_coef == 0]"
      ],
      "metadata": {
        "id": "0K9eYvD8nO_d",
        "colab": {
          "base_uri": "https://localhost:8080/"
        },
        "outputId": "df4e4048-59ed-4476-ef98-c7738ad4a3aa"
      },
      "execution_count": 59,
      "outputs": [
        {
          "output_type": "execute_result",
          "data": {
            "text/plain": [
              "Method_2         -0.0\n",
              "CouncilArea_19   -0.0\n",
              "CouncilArea_27    0.0\n",
              "CouncilArea_28   -0.0\n",
              "CouncilArea_33    0.0\n",
              "dtype: float64"
            ]
          },
          "metadata": {},
          "execution_count": 59
        }
      ]
    },
    {
      "cell_type": "code",
      "source": [
        "y_lasso_train_pred = lasso.predict(x_train_ohe)\n",
        "ridge_r2 = r2_score(y_train, y_lasso_train_pred)\n",
        "ridge_mae = mean_absolute_error(y_train, y_lasso_train_pred)\n",
        "\n",
        "print(f'lasso r2 : {ridge_r2.round(2)}\\nlasso mae : {ridge_mae}')"
      ],
      "metadata": {
        "colab": {
          "base_uri": "https://localhost:8080/"
        },
        "id": "jg9s_5A_PGnQ",
        "outputId": "947aeb08-07f4-432b-ac79-73c59533b676"
      },
      "execution_count": 83,
      "outputs": [
        {
          "output_type": "stream",
          "name": "stdout",
          "text": [
            "lasso r2 : 0.58\n",
            "lasso mae : 251392.48291292737\n"
          ]
        }
      ]
    },
    {
      "cell_type": "code",
      "source": [
        "lasso_coef.sort_values(ascending = False).plot.barh(figsize = (8, 12));"
      ],
      "metadata": {
        "colab": {
          "base_uri": "https://localhost:8080/",
          "height": 700
        },
        "id": "2Vwz3-XOBsLR",
        "outputId": "f1a35cca-6943-46e2-f5c3-f77997f2af3a"
      },
      "execution_count": 79,
      "outputs": [
        {
          "output_type": "display_data",
          "data": {
            "text/plain": [
              "<Figure size 576x864 with 1 Axes>"
            ],
            "image/png": "[encoded data removed]"
          },
          "metadata": {
            "needs_background": "light"
          }
        }
      ]
    },
    {
      "cell_type": "markdown",
      "source": [
        "### **2-3. 일반화 성능 검증**\n",
        "-  학습한 정규화 모델 중 검증 세트의 **`MAE`**가 가장 낮은 모델을 선택하고 일반화 성능을 확인하세요.\n",
        "  - 일반화 성능은 **`Test set`**를 한 번만 사용해서 확인합니다.\n",
        "  - **$R^2$**와 **MAE** score를 확인합니다."
      ],
      "metadata": {
        "id": "CVSXu28z9JUY"
      }
    },
    {
      "cell_type": "markdown",
      "source": [
        "###### **Q5. \b정규화 모델 중 검증 세트의 MAE가 가장 낮은 모델의 Test set에 대한 MAE score를 제출하세요. (소수점 이하 반올림)** "
      ],
      "metadata": {
        "id": "O5LQmm0_-0Eu"
      }
    },
    {
      "cell_type": "code",
      "source": [
        "y_ridge_test_pred = ridge.predict(x_test_ohe)\n",
        "ridge_test_r2 = r2_score(y_test, y_ridge_test_pred)\n",
        "ridge_test_mae = mean_absolute_error(y_test, y_ridge_test_pred)\n",
        "\n",
        "print(f'ridge test r2 : {ridge_test_r2.round(2)}\\nridge test mae : {ridge_test_mae.round(0)}')"
      ],
      "metadata": {
        "id": "TeghubXinYPZ",
        "colab": {
          "base_uri": "https://localhost:8080/"
        },
        "outputId": "bc77dfd7-8109-4818-bb6c-2ea8dfa53a11"
      },
      "execution_count": 88,
      "outputs": [
        {
          "output_type": "stream",
          "name": "stdout",
          "text": [
            "ridge test r2 : 0.59\n",
            "ridge test mae : 255414.0\n"
          ]
        }
      ]
    },
    {
      "cell_type": "code",
      "source": [
        "print(f'기준모델 r2 : {base_r2}\\n기준모델 mae : {base_mae.round(0)}')"
      ],
      "metadata": {
        "colab": {
          "base_uri": "https://localhost:8080/"
        },
        "id": "R2xtdyseQxvb",
        "outputId": "438e85cf-ad77-492b-d9d4-a0f475058743"
      },
      "execution_count": 90,
      "outputs": [
        {
          "output_type": "stream",
          "name": "stdout",
          "text": [
            "기준모델 r2 : 0.0\n",
            "기준모델 mae : 420382.0\n"
          ]
        }
      ]
    },
    {
      "cell_type": "markdown",
      "source": [
        "##### **Q6. 최종모델은 기준모델보다 개선된 모델인가요? (test set에서의 $R^2$와 MAE를 기준모델과 비교해보세요.)**\n",
        "```\n",
        "A. test set에서의 R2가 기준모델보다 감소한 것을 보아 성능이 더 좋은 모델이다.\n",
        "B. test set에서의 MAE가 기준모델보다 증가한 것을 보아 성능이 더 좋은 모델이다.\n",
        "C. test set에서의 R2가 증가하고 MAE가 감소한 것을 보아 성능이 더 좋은 모델이다.\n",
        "D. test set에서의 MAE와 R2가 기준모델보다 증가한 것을 보아 성능이 더 좋은 모델이다.\n",
        "```"
      ],
      "metadata": {
        "id": "ZwRB4dqfJ6zq"
      }
    },
    {
      "cell_type": "markdown",
      "source": [
        "**C**"
      ],
      "metadata": {
        "id": "3YuJanTARYau"
      }
    },
    {
      "cell_type": "markdown",
      "source": [
        "# 🥇 **도전 과제**\n",
        "\n",
        "- RidgeCV와 LassoCV를 사용해서 최적의 알파값을 찾는 과정을 수행하고 성능을 개선해보세요.\n",
        "\n",
        "- ElasticNet 정규화 모델에 대해서 추가로 학습해보세요. \n",
        "\n",
        "- Lasso 와 Ridge에 사용되는 L1, L2 정규화에 대해 알아보고 논의해보세요.\n"
      ],
      "metadata": {
        "id": "MAdX9sdSUVdQ"
      }
    },
    {
      "cell_type": "code",
      "source": [],
      "metadata": {
        "id": "dv4VJnAofYtr"
      },
      "execution_count": null,
      "outputs": []
    }
  ]
}